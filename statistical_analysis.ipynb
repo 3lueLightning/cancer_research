{
 "cells": [
  {
   "cell_type": "code",
   "execution_count": 1,
   "metadata": {},
   "outputs": [],
   "source": [
    "%load_ext rpy2.ipython"
   ]
  },
  {
   "cell_type": "code",
   "execution_count": 2,
   "metadata": {},
   "outputs": [
    {
     "name": "stderr",
     "output_type": "stream",
     "text": [
      "R[write to console]: also installing the dependencies ‘classInt’, ‘questionr’, ‘MatrixModels’, ‘conquer’, ‘openxlsx’, ‘RcppEigen’, ‘klaR’, ‘survival’, ‘htmlTable’, ‘cubature’, ‘pbkrtest’, ‘quantreg’, ‘rio’, ‘lme4’, ‘TH.data’, ‘agricolae’, ‘coin’, ‘Hmisc’, ‘km.ci’, ‘metafor’, ‘np’, ‘car’, ‘multcomp’, ‘NSM3’\n",
      "\n",
      "\n",
      "R[write to console]: Updating HTML index of packages in '.Library'\n",
      "\n",
      "R[write to console]: Making 'packages.html' ...\n",
      "R[write to console]:  done\n",
      "\n"
     ]
    }
   ],
   "source": [
    "%%R\n",
    "install.packages(\"PMCMRplus\", dependencies=TRUE, quiet=TRUE, repos=\"https://cran.ma.imperial.ac.uk/\")\n",
    "library(PMCMRplus)"
   ]
  },
  {
   "cell_type": "code",
   "execution_count": 3,
   "metadata": {},
   "outputs": [],
   "source": [
    "import sys\n",
    "import numpy as np\n",
    "import pandas as pd\n",
    "import seaborn as sns\n",
    "from scipy import stats\n",
    "from typing import List\n",
    "\n",
    "import matplotlib.pyplot as plt\n",
    "\n",
    "%matplotlib inline"
   ]
  },
  {
   "cell_type": "code",
   "execution_count": 8,
   "metadata": {},
   "outputs": [],
   "source": [
    "import constants"
   ]
  },
  {
   "cell_type": "code",
   "execution_count": 10,
   "metadata": {},
   "outputs": [
    {
     "ename": "ModuleNotFoundError",
     "evalue": "No module named 'transformers'",
     "output_type": "error",
     "traceback": [
      "\u001b[0;31m---------------------------------------------------------------------------\u001b[0m",
      "\u001b[0;31mModuleNotFoundError\u001b[0m                       Traceback (most recent call last)",
      "\u001b[0;32m<ipython-input-10-31ecd11fdd95>\u001b[0m in \u001b[0;36m<module>\u001b[0;34m\u001b[0m\n\u001b[0;32m----> 1\u001b[0;31m \u001b[0;32mimport\u001b[0m \u001b[0mcancer_package\u001b[0m\u001b[0;34m.\u001b[0m\u001b[0mconstants\u001b[0m\u001b[0;34m\u001b[0m\u001b[0;34m\u001b[0m\u001b[0m\n\u001b[0m",
      "\u001b[0;32m~/cancer_model/cancer_package/__init__.py\u001b[0m in \u001b[0;36m<module>\u001b[0;34m\u001b[0m\n\u001b[1;32m      1\u001b[0m \u001b[0;32mimport\u001b[0m \u001b[0mconstants\u001b[0m\u001b[0;34m\u001b[0m\u001b[0;34m\u001b[0m\u001b[0m\n\u001b[0;32m----> 2\u001b[0;31m \u001b[0;32mimport\u001b[0m \u001b[0mtransformers\u001b[0m\u001b[0;34m\u001b[0m\u001b[0;34m\u001b[0m\u001b[0m\n\u001b[0m\u001b[1;32m      3\u001b[0m \u001b[0;32mimport\u001b[0m \u001b[0mreporters\u001b[0m\u001b[0;34m\u001b[0m\u001b[0;34m\u001b[0m\u001b[0m\n",
      "\u001b[0;31mModuleNotFoundError\u001b[0m: No module named 'transformers'"
     ]
    }
   ],
   "source": [
    "import cancer_package.constants"
   ]
  },
  {
   "cell_type": "code",
   "execution_count": 6,
   "metadata": {},
   "outputs": [
    {
     "ename": "ModuleNotFoundError",
     "evalue": "No module named 'transformers'",
     "output_type": "error",
     "traceback": [
      "\u001b[0;31m---------------------------------------------------------------------------\u001b[0m",
      "\u001b[0;31mModuleNotFoundError\u001b[0m                       Traceback (most recent call last)",
      "\u001b[0;32m<ipython-input-6-32362b1fc8d9>\u001b[0m in \u001b[0;36m<module>\u001b[0;34m\u001b[0m\n\u001b[0;32m----> 1\u001b[0;31m \u001b[0;32mimport\u001b[0m \u001b[0mcancer_package\u001b[0m\u001b[0;34m.\u001b[0m\u001b[0mconstants\u001b[0m\u001b[0;34m\u001b[0m\u001b[0;34m\u001b[0m\u001b[0m\n\u001b[0m\u001b[1;32m      2\u001b[0m \u001b[0;34m\u001b[0m\u001b[0m\n\u001b[1;32m      3\u001b[0m \u001b[0mINTERPRETABLE_DIR\u001b[0m \u001b[0;34m=\u001b[0m \u001b[0;34m\"interpretable_results/\"\u001b[0m\u001b[0;34m\u001b[0m\u001b[0;34m\u001b[0m\u001b[0m\n\u001b[1;32m      4\u001b[0m \u001b[0mPROTEIN_SET\u001b[0m \u001b[0;34m=\u001b[0m \u001b[0;34m\"2nd_set_proteins/\"\u001b[0m\u001b[0;34m\u001b[0m\u001b[0;34m\u001b[0m\u001b[0m\n\u001b[1;32m      5\u001b[0m \u001b[0;34m\u001b[0m\u001b[0m\n",
      "\u001b[0;32m~/cancer_model/cancer_package/__init__.py\u001b[0m in \u001b[0;36m<module>\u001b[0;34m\u001b[0m\n\u001b[1;32m      1\u001b[0m \u001b[0;32mimport\u001b[0m \u001b[0mconstants\u001b[0m\u001b[0;34m\u001b[0m\u001b[0;34m\u001b[0m\u001b[0m\n\u001b[0;32m----> 2\u001b[0;31m \u001b[0;32mimport\u001b[0m \u001b[0mtransformers\u001b[0m\u001b[0;34m\u001b[0m\u001b[0;34m\u001b[0m\u001b[0m\n\u001b[0m\u001b[1;32m      3\u001b[0m \u001b[0;32mimport\u001b[0m \u001b[0mreporters\u001b[0m\u001b[0;34m\u001b[0m\u001b[0;34m\u001b[0m\u001b[0m\n",
      "\u001b[0;31mModuleNotFoundError\u001b[0m: No module named 'transformers'"
     ]
    }
   ],
   "source": [
    "#import cancer_package.constants\n",
    "\n",
    "INTERPRETABLE_DIR = \"interpretable_results/\"\n",
    "PROTEIN_SET = \"2nd_set_proteins/\"\n",
    "\n",
    "USE_ENERGY_PROTEINS = False\n",
    "NON_NAN_THRESH = .7\n",
    "REPLACE_BY_NAN = False\n",
    "N_FOLDS = 10\n",
    "ENERGY_PROTEINS = ['CAT', 'FBP1', 'FBP2', 'GCLC', 'GCLM', 'GGT1', 'GGT6', 'GSR',\n",
    "       'GSS', 'GSTA1', 'GSTA2', 'GSTK1', 'GSTM1', 'GSTM2', 'GSTM3',\n",
    "       'GSTO1', 'GSTP1', 'GSTT1', 'GSTZ1', 'MGST1', 'MGST2', 'MGST3',\n",
    "       'SDHA', 'SDHB', 'SOD1', 'SOD2', 'SOD3', 'SRC']"
   ]
  },
  {
   "cell_type": "code",
   "execution_count": null,
   "metadata": {},
   "outputs": [],
   "source": [
    "data = pd.read_csv( constants.DATA_DIRECTORY + 'cancer_and_ld_patients.csv')\n",
    "protein_group = pd.read_csv(constants.DATA_DIRECTORY + 'protein_group.csv')\n",
    "\n",
    "# checking we have data\n",
    "print(f\"original dataset shape: {data.shape}\")\n",
    "\n",
    "data_prep = BasicPreprocessing(data, constants.NA_VALUE)\n",
    "data_prep.non_nan_share_hist(bins=30)\n",
    "data_prep.rm_execess_nans(NON_NAN_THRESH, by_group=False)\n",
    "data_prep.organise_proteins(protein_group)\n",
    "\n",
    "if REPLACE_BY_NAN:\n",
    "  data_prep.replace_nans()\n",
    "  print(\"replaced NaNs\")\n",
    "\n",
    "if not USE_ENERGY_PROTEINS:\n",
    "  data_prep.rm_energy_proteins(ENERGY_PROTEINS)\n",
    "  print(\"removed energy proteins\")\n",
    "\n",
    "data = data_prep.data\n",
    "proteins = data_prep.proteins\n",
    "\n",
    "print(f\"preprocessed dataset shape: {data.shape}\")\n",
    "print(data.category.value_counts())"
   ]
  },
  {
   "cell_type": "code",
   "execution_count": null,
   "metadata": {},
   "outputs": [],
   "source": [
    "\"\"\"\n",
    "fig, _ = plt.subplots(1, 1, figsize=(20, 20)) \n",
    "sns.heatmap(data[proteins].corr())\n",
    "\n",
    "fig, _ = plt.subplots(1, 1, figsize=(20, 20)) \n",
    "sns.heatmap(data[proteins].corr(\"spearman\"))\n",
    "\"\"\""
   ]
  },
  {
   "cell_type": "code",
   "execution_count": null,
   "metadata": {},
   "outputs": [],
   "source": [
    "\"\"\"\n",
    "for my_protein in proteins:\n",
    "  sns.histplot(\n",
    "      #data=pd.concat([np.log(data[my_protein]), data[\"category\"]], axis=1),\n",
    "      data=data[[my_protein, \"category\"]],\n",
    "      x=my_protein,\n",
    "      hue=\"category\",\n",
    "      element=\"step\"\n",
    "  ) \n",
    "  plt.show()\n",
    "\"\"\""
   ]
  },
  {
   "cell_type": "code",
   "execution_count": null,
   "metadata": {},
   "outputs": [],
   "source": [
    "#https://www.statsmodels.org/dev/generated/statsmodels.stats.multitest.multipletests.html\n",
    "\n",
    "from scipy.stats import kruskal\n",
    "kruskal_p_vals = {my_protein:\n",
    "  kruskal(\n",
    "      *[group[my_protein].values \n",
    "        for _, group in data[~data.category.str.contains(\"LD\")].groupby(\"category\")]\n",
    "  ).pvalue\n",
    "  for my_protein in proteins\n",
    "}\n",
    "\n",
    "n_h0_rejections = sum([val < .05 for val in kruskal_p_vals.values()])\n",
    "print(f\"number of rejections of the null according without correction {n_h0_rejections}\")"
   ]
  },
  {
   "cell_type": "code",
   "execution_count": null,
   "metadata": {},
   "outputs": [],
   "source": [
    "from statsmodels.stats.multitest import multipletests\n",
    "\n",
    "reject_h0_corrected, pvals_corrected, _, _ = multipletests(\n",
    "    list(kruskal_p_vals.values()),\n",
    "    method=\"holm\", #\"fdr_bh\",\n",
    "    alpha=0.05\n",
    ")\n",
    "\n",
    "proteins_kw_test = pd.DataFrame(\n",
    "    {\n",
    "        \"protein\": kruskal_p_vals.keys(),\n",
    "        \"p_val_corrected\": pvals_corrected,\n",
    "        \"reject_h0\": reject_h0_corrected\n",
    "    }\n",
    ")\n",
    "\n",
    "kw_significant_proteins = proteins_kw_test[proteins_kw_test.reject_h0].protein\n",
    "\n",
    "print(f\"we reject H_0 for {proteins_kw_test.reject_h0.sum()}\")\n",
    "display(proteins_kw_test)"
   ]
  },
  {
   "cell_type": "code",
   "execution_count": null,
   "metadata": {},
   "outputs": [],
   "source": [
    "cancer_ctl_data = data[~data.category.str.contains(\"LD\")]\n",
    "cancer_types = ['LC', 'BC', 'CCA', 'CRC', 'EC', 'GC']\n",
    "%R -i cancer_ctl_data\n",
    "%R -i kw_significant_proteins\n",
    "%R -i cancer_types"
   ]
  },
  {
   "cell_type": "code",
   "execution_count": null,
   "metadata": {},
   "outputs": [],
   "source": [
    "%%R\n",
    "\n",
    "cancer_types = unlist(cancer_types)\n",
    "cancer_ctl_data$category <- factor(\n",
    "    cancer_ctl_data$category,\n",
    "    ordered = TRUE,\n",
    "    levels=c('CTL', cancer_types)\n",
    ")\n",
    "\n",
    "\n",
    "all_statistics = c()\n",
    "all_p_values = c()\n",
    "for (col in kw_significant_proteins) {\n",
    "    hyp_test = kwManyOneDunnTest(\n",
    "        cancer_ctl_data[[col]], \n",
    "        cancer_ctl_data$category,\n",
    "        alternative = \"two.sided\",\n",
    "        p.adjust.method = \"holm\"\n",
    "    )\n",
    "    print(paste(\"-----------------------------   \", col, \"  ---------------------------\"))\n",
    "    summary(hyp_test)\n",
    "    hyp_test_statistic = hyp_test$statistic\n",
    "    colnames(hyp_test_statistic) = col\n",
    "    all_statistics = cbind(all_statistics, hyp_test_statistic)\n",
    "    \n",
    "    hyp_test_p_values = hyp_test$p.value\n",
    "    colnames(hyp_test_p_values) = col\n",
    "    all_p_values = cbind(all_p_values, hyp_test_p_values)\n",
    "}"
   ]
  },
  {
   "cell_type": "code",
   "execution_count": null,
   "metadata": {},
   "outputs": [],
   "source": [
    "%R -o all_statistics\n",
    "%R -o all_p_values"
   ]
  },
  {
   "cell_type": "code",
   "execution_count": null,
   "metadata": {},
   "outputs": [],
   "source": [
    "all_statistics = pd.DataFrame.from_records( all_statistics, columns=list(kw_significant_proteins))\n",
    "all_statistics.columns = pd.MultiIndex.from_product([all_statistics.columns, [\"stat\"]])\n",
    "\n",
    "all_p_values = pd.DataFrame.from_records( all_p_values, columns=list(kw_significant_proteins))\n",
    "all_p_values.columns = pd.MultiIndex.from_product([all_p_values.columns, [\"p-value\"]])"
   ]
  },
  {
   "cell_type": "code",
   "execution_count": null,
   "metadata": {},
   "outputs": [],
   "source": [
    "post_hoc = pd.concat([all_p_values, all_statistics], axis=1)\n",
    "post_hoc = post_hoc.sort_index(axis=1,level=[0,1],ascending=[True,False])\n",
    "post_hoc[\"category\"] = cancer_types\n",
    "post_hoc.set_index(\"category\", inplace=True)\n",
    "post_hoc"
   ]
  },
  {
   "cell_type": "code",
   "execution_count": null,
   "metadata": {},
   "outputs": [],
   "source": [
    "from matplotlib import colors\n",
    "import seaborn as sns\n",
    "\n",
    "def b_g(s):\n",
    "    cm=sns.light_palette((260, 75, 60), input=\"husl\", as_cmap=True, reverse=True)\n",
    "    norm = colors.Normalize(0,.025)\n",
    "    normed = norm(abs(s.values))\n",
    "    c = [colors.rgb2hex(x) for x in plt.cm.get_cmap(cm)(normed)]\n",
    "    return ['background-color: %s' % color for color in c]\n",
    "\n",
    "post_hoc.style.apply(b_g, subset=all_p_values.columns)"
   ]
  }
 ],
 "metadata": {
  "environment": {
   "name": "common-cpu.m59",
   "type": "gcloud",
   "uri": "gcr.io/deeplearning-platform-release/base-cpu:m59"
  },
  "kernelspec": {
   "display_name": "Python 3",
   "language": "python",
   "name": "python3"
  },
  "language_info": {
   "codemirror_mode": {
    "name": "ipython",
    "version": 3
   },
   "file_extension": ".py",
   "mimetype": "text/x-python",
   "name": "python",
   "nbconvert_exporter": "python",
   "pygments_lexer": "ipython3",
   "version": "3.7.8"
  }
 },
 "nbformat": 4,
 "nbformat_minor": 4
}
