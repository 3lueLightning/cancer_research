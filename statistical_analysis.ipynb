{
 "cells": [
  {
   "cell_type": "code",
   "execution_count": 1,
   "metadata": {},
   "outputs": [],
   "source": [
    "%load_ext rpy2.ipython"
   ]
  },
  {
   "cell_type": "code",
   "execution_count": 2,
   "metadata": {},
   "outputs": [
    {
     "name": "stderr",
     "output_type": "stream",
     "text": [
      "R[write to console]: also installing the dependencies ‘classInt’, ‘questionr’, ‘MatrixModels’, ‘conquer’, ‘openxlsx’, ‘RcppEigen’, ‘klaR’, ‘survival’, ‘htmlTable’, ‘cubature’, ‘pbkrtest’, ‘quantreg’, ‘rio’, ‘lme4’, ‘TH.data’, ‘agricolae’, ‘coin’, ‘Hmisc’, ‘km.ci’, ‘metafor’, ‘np’, ‘car’, ‘multcomp’, ‘NSM3’\n",
      "\n",
      "\n",
      "R[write to console]: Updating HTML index of packages in '.Library'\n",
      "\n",
      "R[write to console]: Making 'packages.html' ...\n",
      "R[write to console]:  done\n",
      "\n"
     ]
    }
   ],
   "source": [
    "%%R\n",
    "install.packages(\"PMCMRplus\", dependencies=TRUE, quiet=TRUE, repos=\"https://cran.ma.imperial.ac.uk/\")\n",
    "library(PMCMRplus)"
   ]
  },
  {
   "cell_type": "code",
   "execution_count": 34,
   "metadata": {},
   "outputs": [],
   "source": [
    "import os\n",
    "import sys\n",
    "import numpy as np\n",
    "import pandas as pd\n",
    "import seaborn as sns\n",
    "import matplotlib.pyplot as plt\n",
    "\n",
    "from typing import List\n",
    "#from scipy import stats\n",
    "from scipy.stats import kruskal\n",
    "from statsmodels.stats.multitest import multipletests\n",
    "\n",
    "%matplotlib inline"
   ]
  },
  {
   "cell_type": "code",
   "execution_count": 9,
   "metadata": {},
   "outputs": [],
   "source": [
    "from cancer_package import constants, preprocessing"
   ]
  },
  {
   "cell_type": "code",
   "execution_count": 5,
   "metadata": {},
   "outputs": [],
   "source": [
    "USE_ENERGY_PROTEINS = False\n",
    "NON_NAN_THRESH = .7\n",
    "REPLACE_BY_NAN = False\n",
    "N_FOLDS = 10"
   ]
  },
  {
   "cell_type": "code",
   "execution_count": 31,
   "metadata": {},
   "outputs": [
    {
     "name": "stdout",
     "output_type": "stream",
     "text": [
      "original dataset shape: (231, 117)\n",
      "rm 22 proteins with no data\n",
      "rm 28 energy proteins\n"
     ]
    },
    {
     "data": {
      "image/png": "[encoded data removed]",
      "text/plain": [
       "<Figure size 432x288 with 1 Axes>"
      ]
     },
     "metadata": {
      "needs_background": "light"
     },
     "output_type": "display_data"
    },
    {
     "name": "stdout",
     "output_type": "stream",
     "text": [
      "preprocessed dataset shape: (231, 26)\n",
      "GC           47\n",
      "LC           33\n",
      "CTL          33\n",
      "CCA          25\n",
      "LD (PM)      23\n",
      "CRC          22\n",
      "LD (COPD)    17\n",
      "BC           17\n",
      "EC           14\n",
      "Name: category, dtype: int64\n"
     ]
    }
   ],
   "source": [
    "data = pd.read_csv( os.path.join(constants.DATA_DIRECTORY, 'cancer_and_ld_patients.csv'))\n",
    "protein_group = pd.read_csv( os.path.join(constants.DATA_DIRECTORY, 'protein_group.csv'))\n",
    "\n",
    "# checking we have data\n",
    "print(f\"original dataset shape: {data.shape}\")\n",
    "\n",
    "data_prep = preprocessing.BasicPreprocessing(data, constants.NA_VALUE, USE_ENERGY_PROTEINS)\n",
    "data_prep.organise_proteins(protein_group)\n",
    "data_prep.non_nan_share_hist(bins=30)\n",
    "data_prep.rm_execess_nans(NON_NAN_THRESH, by_group=False)\n",
    "\n",
    "if REPLACE_BY_NAN:\n",
    "    data_prep.replace_nans()\n",
    "    print(\"replaced NaNs\")\n",
    "\n",
    "data = data_prep.data\n",
    "proteins = data_prep.proteins\n",
    "\n",
    "print(f\"preprocessed dataset shape: {data.shape}\")\n",
    "print(data.category.value_counts())"
   ]
  },
  {
   "cell_type": "code",
   "execution_count": null,
   "metadata": {},
   "outputs": [],
   "source": [
    "\"\"\"\n",
    "fig, _ = plt.subplots(1, 1, figsize=(20, 20)) \n",
    "sns.heatmap(data[proteins].corr())\n",
    "\n",
    "fig, _ = plt.subplots(1, 1, figsize=(20, 20)) \n",
    "sns.heatmap(data[proteins].corr(\"spearman\"))\n",
    "\"\"\""
   ]
  },
  {
   "cell_type": "code",
   "execution_count": null,
   "metadata": {},
   "outputs": [],
   "source": [
    "\"\"\"\n",
    "for my_protein in proteins:\n",
    "  sns.histplot(\n",
    "      #data=pd.concat([np.log(data[my_protein]), data[\"category\"]], axis=1),\n",
    "      data=data[[my_protein, \"category\"]],\n",
    "      x=my_protein,\n",
    "      hue=\"category\",\n",
    "      element=\"step\"\n",
    "  ) \n",
    "  plt.show()\n",
    "\"\"\""
   ]
  },
  {
   "cell_type": "code",
   "execution_count": 32,
   "metadata": {},
   "outputs": [
    {
     "name": "stdout",
     "output_type": "stream",
     "text": [
      "number of rejections of the null according without correction 18\n"
     ]
    }
   ],
   "source": [
    "# https://www.statsmodels.org/dev/generated/statsmodels.stats.multitest.multipletests.html\n",
    "\n",
    "cancer_ctl_data = data[~data.category.str.contains(\"LD\")]\n",
    "\n",
    "kruskal_p_vals = {my_protein:\n",
    "  kruskal(\n",
    "      *[group[my_protein].values \n",
    "        for _, group in cancer_ctl_data.groupby(\"category\")]\n",
    "  ).pvalue\n",
    "  for my_protein in proteins\n",
    "}\n",
    "\n",
    "n_h0_rejections = sum([val < .05 for val in kruskal_p_vals.values()])\n",
    "print(f\"number of rejections of the null according without correction {n_h0_rejections}\")"
   ]
  },
  {
   "cell_type": "code",
   "execution_count": 46,
   "metadata": {},
   "outputs": [
    {
     "name": "stdout",
     "output_type": "stream",
     "text": [
      "we reject H_0 for 8\n"
     ]
    },
    {
     "data": {
      "text/html": [
       "<style  type=\"text/css\" >\n",
       "</style><table id=\"T_e95e1db0_8fae_11eb_b8f0_42010a8a0002\" ><thead>    <tr>        <th class=\"blank level0\" ></th>        <th class=\"col_heading level0 col0\" >protein</th>        <th class=\"col_heading level0 col1\" >p_val_corrected</th>        <th class=\"col_heading level0 col2\" >reject_h0</th>    </tr></thead><tbody>\n",
       "                <tr>\n",
       "                        <th id=\"T_e95e1db0_8fae_11eb_b8f0_42010a8a0002level0_row0\" class=\"row_heading level0 row0\" >0</th>\n",
       "                        <td id=\"T_e95e1db0_8fae_11eb_b8f0_42010a8a0002row0_col0\" class=\"data row0 col0\" >HSP90AA1</td>\n",
       "                        <td id=\"T_e95e1db0_8fae_11eb_b8f0_42010a8a0002row0_col1\" class=\"data row0 col1\" >7.154%</td>\n",
       "                        <td id=\"T_e95e1db0_8fae_11eb_b8f0_42010a8a0002row0_col2\" class=\"data row0 col2\" >False</td>\n",
       "            </tr>\n",
       "            <tr>\n",
       "                        <th id=\"T_e95e1db0_8fae_11eb_b8f0_42010a8a0002level0_row1\" class=\"row_heading level0 row1\" >1</th>\n",
       "                        <td id=\"T_e95e1db0_8fae_11eb_b8f0_42010a8a0002row1_col0\" class=\"data row1 col0\" >HSP90AB1</td>\n",
       "                        <td id=\"T_e95e1db0_8fae_11eb_b8f0_42010a8a0002row1_col1\" class=\"data row1 col1\" >2.793%</td>\n",
       "                        <td id=\"T_e95e1db0_8fae_11eb_b8f0_42010a8a0002row1_col2\" class=\"data row1 col2\" >True</td>\n",
       "            </tr>\n",
       "            <tr>\n",
       "                        <th id=\"T_e95e1db0_8fae_11eb_b8f0_42010a8a0002level0_row2\" class=\"row_heading level0 row2\" >2</th>\n",
       "                        <td id=\"T_e95e1db0_8fae_11eb_b8f0_42010a8a0002row2_col0\" class=\"data row2 col0\" >HSP90B1</td>\n",
       "                        <td id=\"T_e95e1db0_8fae_11eb_b8f0_42010a8a0002row2_col1\" class=\"data row2 col1\" >5.827%</td>\n",
       "                        <td id=\"T_e95e1db0_8fae_11eb_b8f0_42010a8a0002row2_col2\" class=\"data row2 col2\" >False</td>\n",
       "            </tr>\n",
       "            <tr>\n",
       "                        <th id=\"T_e95e1db0_8fae_11eb_b8f0_42010a8a0002level0_row3\" class=\"row_heading level0 row3\" >3</th>\n",
       "                        <td id=\"T_e95e1db0_8fae_11eb_b8f0_42010a8a0002row3_col0\" class=\"data row3 col0\" >TRAP1</td>\n",
       "                        <td id=\"T_e95e1db0_8fae_11eb_b8f0_42010a8a0002row3_col1\" class=\"data row3 col1\" >0.011%</td>\n",
       "                        <td id=\"T_e95e1db0_8fae_11eb_b8f0_42010a8a0002row3_col2\" class=\"data row3 col2\" >True</td>\n",
       "            </tr>\n",
       "            <tr>\n",
       "                        <th id=\"T_e95e1db0_8fae_11eb_b8f0_42010a8a0002level0_row4\" class=\"row_heading level0 row4\" >4</th>\n",
       "                        <td id=\"T_e95e1db0_8fae_11eb_b8f0_42010a8a0002row4_col0\" class=\"data row4 col0\" >FKBP4</td>\n",
       "                        <td id=\"T_e95e1db0_8fae_11eb_b8f0_42010a8a0002row4_col1\" class=\"data row4 col1\" >0.003%</td>\n",
       "                        <td id=\"T_e95e1db0_8fae_11eb_b8f0_42010a8a0002row4_col2\" class=\"data row4 col2\" >True</td>\n",
       "            </tr>\n",
       "            <tr>\n",
       "                        <th id=\"T_e95e1db0_8fae_11eb_b8f0_42010a8a0002level0_row5\" class=\"row_heading level0 row5\" >5</th>\n",
       "                        <td id=\"T_e95e1db0_8fae_11eb_b8f0_42010a8a0002row5_col0\" class=\"data row5 col0\" >HSPA2</td>\n",
       "                        <td id=\"T_e95e1db0_8fae_11eb_b8f0_42010a8a0002row5_col1\" class=\"data row5 col1\" >36.633%</td>\n",
       "                        <td id=\"T_e95e1db0_8fae_11eb_b8f0_42010a8a0002row5_col2\" class=\"data row5 col2\" >False</td>\n",
       "            </tr>\n",
       "            <tr>\n",
       "                        <th id=\"T_e95e1db0_8fae_11eb_b8f0_42010a8a0002level0_row6\" class=\"row_heading level0 row6\" >6</th>\n",
       "                        <td id=\"T_e95e1db0_8fae_11eb_b8f0_42010a8a0002row6_col0\" class=\"data row6 col0\" >HSPA5</td>\n",
       "                        <td id=\"T_e95e1db0_8fae_11eb_b8f0_42010a8a0002row6_col1\" class=\"data row6 col1\" >82.382%</td>\n",
       "                        <td id=\"T_e95e1db0_8fae_11eb_b8f0_42010a8a0002row6_col2\" class=\"data row6 col2\" >False</td>\n",
       "            </tr>\n",
       "            <tr>\n",
       "                        <th id=\"T_e95e1db0_8fae_11eb_b8f0_42010a8a0002level0_row7\" class=\"row_heading level0 row7\" >7</th>\n",
       "                        <td id=\"T_e95e1db0_8fae_11eb_b8f0_42010a8a0002row7_col0\" class=\"data row7 col0\" >HSPA6</td>\n",
       "                        <td id=\"T_e95e1db0_8fae_11eb_b8f0_42010a8a0002row7_col1\" class=\"data row7 col1\" >28.670%</td>\n",
       "                        <td id=\"T_e95e1db0_8fae_11eb_b8f0_42010a8a0002row7_col2\" class=\"data row7 col2\" >False</td>\n",
       "            </tr>\n",
       "            <tr>\n",
       "                        <th id=\"T_e95e1db0_8fae_11eb_b8f0_42010a8a0002level0_row8\" class=\"row_heading level0 row8\" >8</th>\n",
       "                        <td id=\"T_e95e1db0_8fae_11eb_b8f0_42010a8a0002row8_col0\" class=\"data row8 col0\" >HSPA8</td>\n",
       "                        <td id=\"T_e95e1db0_8fae_11eb_b8f0_42010a8a0002row8_col1\" class=\"data row8 col1\" >82.382%</td>\n",
       "                        <td id=\"T_e95e1db0_8fae_11eb_b8f0_42010a8a0002row8_col2\" class=\"data row8 col2\" >False</td>\n",
       "            </tr>\n",
       "            <tr>\n",
       "                        <th id=\"T_e95e1db0_8fae_11eb_b8f0_42010a8a0002level0_row9\" class=\"row_heading level0 row9\" >9</th>\n",
       "                        <td id=\"T_e95e1db0_8fae_11eb_b8f0_42010a8a0002row9_col0\" class=\"data row9 col0\" >HSPA9</td>\n",
       "                        <td id=\"T_e95e1db0_8fae_11eb_b8f0_42010a8a0002row9_col1\" class=\"data row9 col1\" >0.110%</td>\n",
       "                        <td id=\"T_e95e1db0_8fae_11eb_b8f0_42010a8a0002row9_col2\" class=\"data row9 col2\" >True</td>\n",
       "            </tr>\n",
       "            <tr>\n",
       "                        <th id=\"T_e95e1db0_8fae_11eb_b8f0_42010a8a0002level0_row10\" class=\"row_heading level0 row10\" >10</th>\n",
       "                        <td id=\"T_e95e1db0_8fae_11eb_b8f0_42010a8a0002row10_col0\" class=\"data row10 col0\" >DNAJA1</td>\n",
       "                        <td id=\"T_e95e1db0_8fae_11eb_b8f0_42010a8a0002row10_col1\" class=\"data row10 col1\" >25.669%</td>\n",
       "                        <td id=\"T_e95e1db0_8fae_11eb_b8f0_42010a8a0002row10_col2\" class=\"data row10 col2\" >False</td>\n",
       "            </tr>\n",
       "            <tr>\n",
       "                        <th id=\"T_e95e1db0_8fae_11eb_b8f0_42010a8a0002level0_row11\" class=\"row_heading level0 row11\" >11</th>\n",
       "                        <td id=\"T_e95e1db0_8fae_11eb_b8f0_42010a8a0002row11_col0\" class=\"data row11 col0\" >ST13</td>\n",
       "                        <td id=\"T_e95e1db0_8fae_11eb_b8f0_42010a8a0002row11_col1\" class=\"data row11 col1\" >30.103%</td>\n",
       "                        <td id=\"T_e95e1db0_8fae_11eb_b8f0_42010a8a0002row11_col2\" class=\"data row11 col2\" >False</td>\n",
       "            </tr>\n",
       "            <tr>\n",
       "                        <th id=\"T_e95e1db0_8fae_11eb_b8f0_42010a8a0002level0_row12\" class=\"row_heading level0 row12\" >12</th>\n",
       "                        <td id=\"T_e95e1db0_8fae_11eb_b8f0_42010a8a0002row12_col0\" class=\"data row12 col0\" >HSPA4</td>\n",
       "                        <td id=\"T_e95e1db0_8fae_11eb_b8f0_42010a8a0002row12_col1\" class=\"data row12 col1\" >9.540%</td>\n",
       "                        <td id=\"T_e95e1db0_8fae_11eb_b8f0_42010a8a0002row12_col2\" class=\"data row12 col2\" >False</td>\n",
       "            </tr>\n",
       "            <tr>\n",
       "                        <th id=\"T_e95e1db0_8fae_11eb_b8f0_42010a8a0002level0_row13\" class=\"row_heading level0 row13\" >13</th>\n",
       "                        <td id=\"T_e95e1db0_8fae_11eb_b8f0_42010a8a0002row13_col0\" class=\"data row13 col0\" >HSPD1</td>\n",
       "                        <td id=\"T_e95e1db0_8fae_11eb_b8f0_42010a8a0002row13_col1\" class=\"data row13 col1\" >8.735%</td>\n",
       "                        <td id=\"T_e95e1db0_8fae_11eb_b8f0_42010a8a0002row13_col2\" class=\"data row13 col2\" >False</td>\n",
       "            </tr>\n",
       "            <tr>\n",
       "                        <th id=\"T_e95e1db0_8fae_11eb_b8f0_42010a8a0002level0_row14\" class=\"row_heading level0 row14\" >14</th>\n",
       "                        <td id=\"T_e95e1db0_8fae_11eb_b8f0_42010a8a0002row14_col0\" class=\"data row14 col0\" >HSPB1</td>\n",
       "                        <td id=\"T_e95e1db0_8fae_11eb_b8f0_42010a8a0002row14_col1\" class=\"data row14 col1\" >0.767%</td>\n",
       "                        <td id=\"T_e95e1db0_8fae_11eb_b8f0_42010a8a0002row14_col2\" class=\"data row14 col2\" >True</td>\n",
       "            </tr>\n",
       "            <tr>\n",
       "                        <th id=\"T_e95e1db0_8fae_11eb_b8f0_42010a8a0002level0_row15\" class=\"row_heading level0 row15\" >15</th>\n",
       "                        <td id=\"T_e95e1db0_8fae_11eb_b8f0_42010a8a0002row15_col0\" class=\"data row15 col0\" >HSPB5</td>\n",
       "                        <td id=\"T_e95e1db0_8fae_11eb_b8f0_42010a8a0002row15_col1\" class=\"data row15 col1\" >1.917%</td>\n",
       "                        <td id=\"T_e95e1db0_8fae_11eb_b8f0_42010a8a0002row15_col2\" class=\"data row15 col2\" >True</td>\n",
       "            </tr>\n",
       "            <tr>\n",
       "                        <th id=\"T_e95e1db0_8fae_11eb_b8f0_42010a8a0002level0_row16\" class=\"row_heading level0 row16\" >16</th>\n",
       "                        <td id=\"T_e95e1db0_8fae_11eb_b8f0_42010a8a0002row16_col0\" class=\"data row16 col0\" >CCT1</td>\n",
       "                        <td id=\"T_e95e1db0_8fae_11eb_b8f0_42010a8a0002row16_col1\" class=\"data row16 col1\" >0.319%</td>\n",
       "                        <td id=\"T_e95e1db0_8fae_11eb_b8f0_42010a8a0002row16_col2\" class=\"data row16 col2\" >True</td>\n",
       "            </tr>\n",
       "            <tr>\n",
       "                        <th id=\"T_e95e1db0_8fae_11eb_b8f0_42010a8a0002level0_row17\" class=\"row_heading level0 row17\" >17</th>\n",
       "                        <td id=\"T_e95e1db0_8fae_11eb_b8f0_42010a8a0002row17_col0\" class=\"data row17 col0\" >CCT2</td>\n",
       "                        <td id=\"T_e95e1db0_8fae_11eb_b8f0_42010a8a0002row17_col1\" class=\"data row17 col1\" >82.382%</td>\n",
       "                        <td id=\"T_e95e1db0_8fae_11eb_b8f0_42010a8a0002row17_col2\" class=\"data row17 col2\" >False</td>\n",
       "            </tr>\n",
       "            <tr>\n",
       "                        <th id=\"T_e95e1db0_8fae_11eb_b8f0_42010a8a0002level0_row18\" class=\"row_heading level0 row18\" >18</th>\n",
       "                        <td id=\"T_e95e1db0_8fae_11eb_b8f0_42010a8a0002row18_col0\" class=\"data row18 col0\" >CCT3</td>\n",
       "                        <td id=\"T_e95e1db0_8fae_11eb_b8f0_42010a8a0002row18_col1\" class=\"data row18 col1\" >25.669%</td>\n",
       "                        <td id=\"T_e95e1db0_8fae_11eb_b8f0_42010a8a0002row18_col2\" class=\"data row18 col2\" >False</td>\n",
       "            </tr>\n",
       "            <tr>\n",
       "                        <th id=\"T_e95e1db0_8fae_11eb_b8f0_42010a8a0002level0_row19\" class=\"row_heading level0 row19\" >19</th>\n",
       "                        <td id=\"T_e95e1db0_8fae_11eb_b8f0_42010a8a0002row19_col0\" class=\"data row19 col0\" >CCT4</td>\n",
       "                        <td id=\"T_e95e1db0_8fae_11eb_b8f0_42010a8a0002row19_col1\" class=\"data row19 col1\" >30.103%</td>\n",
       "                        <td id=\"T_e95e1db0_8fae_11eb_b8f0_42010a8a0002row19_col2\" class=\"data row19 col2\" >False</td>\n",
       "            </tr>\n",
       "            <tr>\n",
       "                        <th id=\"T_e95e1db0_8fae_11eb_b8f0_42010a8a0002level0_row20\" class=\"row_heading level0 row20\" >20</th>\n",
       "                        <td id=\"T_e95e1db0_8fae_11eb_b8f0_42010a8a0002row20_col0\" class=\"data row20 col0\" >CCT5</td>\n",
       "                        <td id=\"T_e95e1db0_8fae_11eb_b8f0_42010a8a0002row20_col1\" class=\"data row20 col1\" >0.066%</td>\n",
       "                        <td id=\"T_e95e1db0_8fae_11eb_b8f0_42010a8a0002row20_col2\" class=\"data row20 col2\" >True</td>\n",
       "            </tr>\n",
       "            <tr>\n",
       "                        <th id=\"T_e95e1db0_8fae_11eb_b8f0_42010a8a0002level0_row21\" class=\"row_heading level0 row21\" >21</th>\n",
       "                        <td id=\"T_e95e1db0_8fae_11eb_b8f0_42010a8a0002row21_col0\" class=\"data row21 col0\" >CCT6A</td>\n",
       "                        <td id=\"T_e95e1db0_8fae_11eb_b8f0_42010a8a0002row21_col1\" class=\"data row21 col1\" >16.978%</td>\n",
       "                        <td id=\"T_e95e1db0_8fae_11eb_b8f0_42010a8a0002row21_col2\" class=\"data row21 col2\" >False</td>\n",
       "            </tr>\n",
       "            <tr>\n",
       "                        <th id=\"T_e95e1db0_8fae_11eb_b8f0_42010a8a0002level0_row22\" class=\"row_heading level0 row22\" >22</th>\n",
       "                        <td id=\"T_e95e1db0_8fae_11eb_b8f0_42010a8a0002row22_col0\" class=\"data row22 col0\" >CCT7</td>\n",
       "                        <td id=\"T_e95e1db0_8fae_11eb_b8f0_42010a8a0002row22_col1\" class=\"data row22 col1\" >6.852%</td>\n",
       "                        <td id=\"T_e95e1db0_8fae_11eb_b8f0_42010a8a0002row22_col2\" class=\"data row22 col2\" >False</td>\n",
       "            </tr>\n",
       "            <tr>\n",
       "                        <th id=\"T_e95e1db0_8fae_11eb_b8f0_42010a8a0002level0_row23\" class=\"row_heading level0 row23\" >23</th>\n",
       "                        <td id=\"T_e95e1db0_8fae_11eb_b8f0_42010a8a0002row23_col0\" class=\"data row23 col0\" >CCT8</td>\n",
       "                        <td id=\"T_e95e1db0_8fae_11eb_b8f0_42010a8a0002row23_col1\" class=\"data row23 col1\" >28.670%</td>\n",
       "                        <td id=\"T_e95e1db0_8fae_11eb_b8f0_42010a8a0002row23_col2\" class=\"data row23 col2\" >False</td>\n",
       "            </tr>\n",
       "    </tbody></table>"
      ],
      "text/plain": [
       "<pandas.io.formats.style.Styler at 0x7f9d8df4cf90>"
      ]
     },
     "execution_count": 46,
     "metadata": {},
     "output_type": "execute_result"
    }
   ],
   "source": [
    "reject_h0_corrected, pvals_corrected, _, _ = multipletests(\n",
    "    list(kruskal_p_vals.values()),\n",
    "    method=\"holm\", #\"fdr_bh\",\n",
    "    alpha=0.05\n",
    ")\n",
    "\n",
    "proteins_kw_test = pd.DataFrame(\n",
    "    {\n",
    "        \"protein\": kruskal_p_vals.keys(),\n",
    "        \"p_val_corrected\": pvals_corrected,\n",
    "        \"reject_h0\": reject_h0_corrected\n",
    "    }\n",
    ")\n",
    "\n",
    "kw_significant_proteins = proteins_kw_test[proteins_kw_test.reject_h0].protein\n",
    "\n",
    "print(f\"we reject H_0 for {proteins_kw_test.reject_h0.sum()}\")\n",
    "proteins_kw_test.style.format({'p_val_corrected': '{:.3%}'})"
   ]
  },
  {
   "cell_type": "code",
   "execution_count": 36,
   "metadata": {},
   "outputs": [],
   "source": [
    "cancer_types = ['LC', 'BC', 'CCA', 'CRC', 'EC', 'GC']\n",
    "%R -i cancer_ctl_data\n",
    "%R -i kw_significant_proteins\n",
    "%R -i cancer_types"
   ]
  },
  {
   "cell_type": "code",
   "execution_count": 37,
   "metadata": {},
   "outputs": [
    {
     "name": "stdout",
     "output_type": "stream",
     "text": [
      "[1] \"-----------------------------    HSP90AB1   ---------------------------\"\n"
     ]
    },
    {
     "name": "stderr",
     "output_type": "stream",
     "text": [
      "R[write to console]: \n",
      "\tPairwise comparisons using Dunn's many-to-one test\n",
      "\n",
      "\n",
      "R[write to console]: data: cancer_ctl_data[[col]] and cancer_ctl_data$category\n",
      "\n",
      "R[write to console]: alternative hypothesis: two.sided\n",
      "\n",
      "R[write to console]: P value adjustment method: holm\n",
      "\n",
      "R[write to console]: H0\n",
      "\n"
     ]
    },
    {
     "name": "stdout",
     "output_type": "stream",
     "text": [
      "               z value Pr(>|z|)  \n",
      "LC - CTL == 0   -2.173  0.11906  \n",
      "BC - CTL == 0    0.608  1.00000  \n",
      "CCA - CTL == 0  -0.677  1.00000  \n",
      "CRC - CTL == 0  -2.735  0.03738 *\n",
      "EC - CTL == 0    0.576  1.00000  \n",
      "GC - CTL == 0   -2.681  0.03738 *\n"
     ]
    },
    {
     "name": "stderr",
     "output_type": "stream",
     "text": [
      "R[write to console]: ---\n",
      "\n",
      "R[write to console]: Signif. codes: 0 ‘***’ 0.001 ‘**’ 0.01 ‘*’ 0.05 ‘.’ 0.1 ‘ ’ 1\n",
      "\n"
     ]
    },
    {
     "name": "stdout",
     "output_type": "stream",
     "text": [
      "[1] \"-----------------------------    TRAP1   ---------------------------\"\n"
     ]
    },
    {
     "name": "stderr",
     "output_type": "stream",
     "text": [
      "R[write to console]: \n",
      "\tPairwise comparisons using Dunn's many-to-one test\n",
      "\n",
      "\n",
      "R[write to console]: data: cancer_ctl_data[[col]] and cancer_ctl_data$category\n",
      "\n",
      "R[write to console]: alternative hypothesis: two.sided\n",
      "\n",
      "R[write to console]: P value adjustment method: holm\n",
      "\n",
      "R[write to console]: H0\n",
      "\n"
     ]
    },
    {
     "name": "stdout",
     "output_type": "stream",
     "text": [
      "               z value  Pr(>|z|)   \n",
      "LC - CTL == 0    3.554 0.0022789 **\n",
      "BC - CTL == 0    3.455 0.0027562 **\n",
      "CCA - CTL == 0   2.766 0.0170201  *\n",
      "CRC - CTL == 0   1.883 0.1193918   \n",
      "EC - CTL == 0    3.314 0.0036853 **\n",
      "GC - CTL == 0    0.034 0.9730440   \n"
     ]
    },
    {
     "name": "stderr",
     "output_type": "stream",
     "text": [
      "R[write to console]: ---\n",
      "\n",
      "R[write to console]: Signif. codes: 0 ‘***’ 0.001 ‘**’ 0.01 ‘*’ 0.05 ‘.’ 0.1 ‘ ’ 1\n",
      "\n"
     ]
    },
    {
     "name": "stdout",
     "output_type": "stream",
     "text": [
      "[1] \"-----------------------------    FKBP4   ---------------------------\"\n"
     ]
    },
    {
     "name": "stderr",
     "output_type": "stream",
     "text": [
      "R[write to console]: \n",
      "\tPairwise comparisons using Dunn's many-to-one test\n",
      "\n",
      "\n",
      "R[write to console]: data: cancer_ctl_data[[col]] and cancer_ctl_data$category\n",
      "\n",
      "R[write to console]: alternative hypothesis: two.sided\n",
      "\n",
      "R[write to console]: P value adjustment method: holm\n",
      "\n",
      "R[write to console]: H0\n",
      "\n"
     ]
    },
    {
     "name": "stdout",
     "output_type": "stream",
     "text": [
      "               z value   Pr(>|z|)    \n",
      "LC - CTL == 0   -4.969 4.0367e-06 ***\n",
      "BC - CTL == 0   -4.146 0.00013554 ***\n",
      "CCA - CTL == 0  -2.750 0.01190523   *\n",
      "CRC - CTL == 0  -4.313 8.0471e-05 ***\n",
      "EC - CTL == 0   -0.838 0.40186549    \n",
      "GC - CTL == 0   -3.416 0.00190564  **\n"
     ]
    },
    {
     "name": "stderr",
     "output_type": "stream",
     "text": [
      "R[write to console]: ---\n",
      "\n",
      "R[write to console]: Signif. codes: 0 ‘***’ 0.001 ‘**’ 0.01 ‘*’ 0.05 ‘.’ 0.1 ‘ ’ 1\n",
      "\n"
     ]
    },
    {
     "name": "stdout",
     "output_type": "stream",
     "text": [
      "[1] \"-----------------------------    HSPA9   ---------------------------\"\n"
     ]
    },
    {
     "name": "stderr",
     "output_type": "stream",
     "text": [
      "R[write to console]: \n",
      "\tPairwise comparisons using Dunn's many-to-one test\n",
      "\n",
      "\n",
      "R[write to console]: data: cancer_ctl_data[[col]] and cancer_ctl_data$category\n",
      "\n",
      "R[write to console]: alternative hypothesis: two.sided\n",
      "\n",
      "R[write to console]: P value adjustment method: holm\n",
      "\n",
      "R[write to console]: H0\n",
      "\n"
     ]
    },
    {
     "name": "stdout",
     "output_type": "stream",
     "text": [
      "               z value   Pr(>|z|)    \n",
      "LC - CTL == 0    4.260 0.00010241 ***\n",
      "BC - CTL == 0    4.334 8.8009e-05 ***\n",
      "CCA - CTL == 0   1.931 0.07836323   .\n",
      "CRC - CTL == 0   2.062 0.07836323   .\n",
      "EC - CTL == 0    3.122 0.00717592  **\n",
      "GC - CTL == 0    2.254 0.07268166   .\n"
     ]
    },
    {
     "name": "stderr",
     "output_type": "stream",
     "text": [
      "R[write to console]: ---\n",
      "\n",
      "R[write to console]: Signif. codes: 0 ‘***’ 0.001 ‘**’ 0.01 ‘*’ 0.05 ‘.’ 0.1 ‘ ’ 1\n",
      "\n"
     ]
    },
    {
     "name": "stdout",
     "output_type": "stream",
     "text": [
      "[1] \"-----------------------------    HSPB1   ---------------------------\"\n"
     ]
    },
    {
     "name": "stderr",
     "output_type": "stream",
     "text": [
      "R[write to console]: \n",
      "\tPairwise comparisons using Dunn's many-to-one test\n",
      "\n",
      "\n",
      "R[write to console]: data: cancer_ctl_data[[col]] and cancer_ctl_data$category\n",
      "\n",
      "R[write to console]: alternative hypothesis: two.sided\n",
      "\n",
      "R[write to console]: P value adjustment method: holm\n",
      "\n",
      "R[write to console]: H0\n",
      "\n"
     ]
    },
    {
     "name": "stdout",
     "output_type": "stream",
     "text": [
      "               z value Pr(>|z|)  \n",
      "LC - CTL == 0   -1.746 0.404323  \n",
      "BC - CTL == 0   -0.536 0.592226  \n",
      "CCA - CTL == 0   2.588 0.057914 .\n",
      "CRC - CTL == 0  -1.536 0.498641  \n",
      "EC - CTL == 0   -1.234 0.498641  \n",
      "GC - CTL == 0   -1.403 0.498641  \n"
     ]
    },
    {
     "name": "stderr",
     "output_type": "stream",
     "text": [
      "R[write to console]: ---\n",
      "\n",
      "R[write to console]: Signif. codes: 0 ‘***’ 0.001 ‘**’ 0.01 ‘*’ 0.05 ‘.’ 0.1 ‘ ’ 1\n",
      "\n"
     ]
    },
    {
     "name": "stdout",
     "output_type": "stream",
     "text": [
      "[1] \"-----------------------------    HSPB5   ---------------------------\"\n"
     ]
    },
    {
     "name": "stderr",
     "output_type": "stream",
     "text": [
      "R[write to console]: \n",
      "\tPairwise comparisons using Dunn's many-to-one test\n",
      "\n",
      "\n",
      "R[write to console]: data: cancer_ctl_data[[col]] and cancer_ctl_data$category\n",
      "\n",
      "R[write to console]: alternative hypothesis: two.sided\n",
      "\n",
      "R[write to console]: P value adjustment method: holm\n",
      "\n",
      "R[write to console]: H0\n",
      "\n"
     ]
    },
    {
     "name": "stdout",
     "output_type": "stream",
     "text": [
      "               z value Pr(>|z|)  \n",
      "LC - CTL == 0    0.249 1.000000  \n",
      "BC - CTL == 0   -0.557 1.000000  \n",
      "CCA - CTL == 0   2.707 0.040762 *\n",
      "CRC - CTL == 0  -1.914 0.278163  \n",
      "EC - CTL == 0   -1.105 1.000000  \n",
      "GC - CTL == 0    0.756 1.000000  \n"
     ]
    },
    {
     "name": "stderr",
     "output_type": "stream",
     "text": [
      "R[write to console]: ---\n",
      "\n",
      "R[write to console]: Signif. codes: 0 ‘***’ 0.001 ‘**’ 0.01 ‘*’ 0.05 ‘.’ 0.1 ‘ ’ 1\n",
      "\n"
     ]
    },
    {
     "name": "stdout",
     "output_type": "stream",
     "text": [
      "[1] \"-----------------------------    CCT1   ---------------------------\"\n"
     ]
    },
    {
     "name": "stderr",
     "output_type": "stream",
     "text": [
      "R[write to console]: \n",
      "\tPairwise comparisons using Dunn's many-to-one test\n",
      "\n",
      "\n",
      "R[write to console]: data: cancer_ctl_data[[col]] and cancer_ctl_data$category\n",
      "\n",
      "R[write to console]: alternative hypothesis: two.sided\n",
      "\n",
      "R[write to console]: P value adjustment method: holm\n",
      "\n",
      "R[write to console]: H0\n",
      "\n"
     ]
    },
    {
     "name": "stdout",
     "output_type": "stream",
     "text": [
      "               z value   Pr(>|z|)    \n",
      "LC - CTL == 0   -3.584 0.00168868  **\n",
      "BC - CTL == 0   -1.862 0.12523809    \n",
      "CCA - CTL == 0  -3.894 0.00059166 ***\n",
      "CRC - CTL == 0  -3.424 0.00246658  **\n",
      "EC - CTL == 0   -2.800 0.01531298   *\n",
      "GC - CTL == 0   -1.391 0.16423019    \n"
     ]
    },
    {
     "name": "stderr",
     "output_type": "stream",
     "text": [
      "R[write to console]: ---\n",
      "\n",
      "R[write to console]: Signif. codes: 0 ‘***’ 0.001 ‘**’ 0.01 ‘*’ 0.05 ‘.’ 0.1 ‘ ’ 1\n",
      "\n"
     ]
    },
    {
     "name": "stdout",
     "output_type": "stream",
     "text": [
      "[1] \"-----------------------------    CCT5   ---------------------------\"\n"
     ]
    },
    {
     "name": "stderr",
     "output_type": "stream",
     "text": [
      "R[write to console]: \n",
      "\tPairwise comparisons using Dunn's many-to-one test\n",
      "\n",
      "\n",
      "R[write to console]: data: cancer_ctl_data[[col]] and cancer_ctl_data$category\n",
      "\n",
      "R[write to console]: alternative hypothesis: two.sided\n",
      "\n",
      "R[write to console]: P value adjustment method: holm\n",
      "\n",
      "R[write to console]: H0\n",
      "\n"
     ]
    },
    {
     "name": "stdout",
     "output_type": "stream",
     "text": [
      "               z value   Pr(>|z|)    \n",
      "LC - CTL == 0   -4.106 0.00024119 ***\n",
      "BC - CTL == 0   -2.931 0.01015169   *\n",
      "CCA - CTL == 0  -3.435 0.00237108  **\n",
      "CRC - CTL == 0  -3.824 0.00065602 ***\n",
      "EC - CTL == 0   -2.259 0.04774748   *\n",
      "GC - CTL == 0   -1.237 0.21620355    \n"
     ]
    },
    {
     "name": "stderr",
     "output_type": "stream",
     "text": [
      "R[write to console]: ---\n",
      "\n",
      "R[write to console]: Signif. codes: 0 ‘***’ 0.001 ‘**’ 0.01 ‘*’ 0.05 ‘.’ 0.1 ‘ ’ 1\n",
      "\n"
     ]
    }
   ],
   "source": [
    "%%R\n",
    "\n",
    "# just to garantee that CTL is always the first group\n",
    "# since that is what determines it should be used as control group\n",
    "cancer_types = unlist(cancer_types)\n",
    "cancer_ctl_data$category <- factor(\n",
    "    cancer_ctl_data$category,\n",
    "    ordered = TRUE,\n",
    "    levels=c('CTL', cancer_types)\n",
    ")\n",
    "\n",
    "\n",
    "all_statistics = c()\n",
    "all_p_values = c()\n",
    "for (col in kw_significant_proteins) {\n",
    "    hyp_test = kwManyOneDunnTest(\n",
    "        cancer_ctl_data[[col]], \n",
    "        cancer_ctl_data$category,\n",
    "        alternative = \"two.sided\",\n",
    "        p.adjust.method = \"holm\"\n",
    "    )\n",
    "    print(paste(\"-----------------------------   \", col, \"  ---------------------------\"))\n",
    "    summary(hyp_test)\n",
    "    hyp_test_statistic = hyp_test$statistic\n",
    "    colnames(hyp_test_statistic) = col\n",
    "    all_statistics = cbind(all_statistics, hyp_test_statistic)\n",
    "    \n",
    "    hyp_test_p_values = hyp_test$p.value\n",
    "    colnames(hyp_test_p_values) = col\n",
    "    all_p_values = cbind(all_p_values, hyp_test_p_values)\n",
    "}"
   ]
  },
  {
   "cell_type": "code",
   "execution_count": null,
   "metadata": {},
   "outputs": [],
   "source": [
    "%R -o all_statistics\n",
    "%R -o all_p_values"
   ]
  },
  {
   "cell_type": "code",
   "execution_count": null,
   "metadata": {},
   "outputs": [],
   "source": [
    "all_statistics = pd.DataFrame.from_records( all_statistics, columns=list(kw_significant_proteins))\n",
    "all_statistics.columns = pd.MultiIndex.from_product([all_statistics.columns, [\"stat\"]])\n",
    "\n",
    "all_p_values = pd.DataFrame.from_records( all_p_values, columns=list(kw_significant_proteins))\n",
    "all_p_values.columns = pd.MultiIndex.from_product([all_p_values.columns, [\"p-value\"]])"
   ]
  },
  {
   "cell_type": "code",
   "execution_count": null,
   "metadata": {},
   "outputs": [],
   "source": [
    "post_hoc = pd.concat([all_p_values, all_statistics], axis=1)\n",
    "post_hoc = post_hoc.sort_index(axis=1,level=[0,1],ascending=[True,False])\n",
    "post_hoc[\"category\"] = cancer_types\n",
    "post_hoc.set_index(\"category\", inplace=True)\n",
    "post_hoc"
   ]
  },
  {
   "cell_type": "code",
   "execution_count": null,
   "metadata": {},
   "outputs": [],
   "source": [
    "from matplotlib import colors\n",
    "import seaborn as sns\n",
    "\n",
    "def b_g(s):\n",
    "    cm=sns.light_palette((260, 75, 60), input=\"husl\", as_cmap=True, reverse=True)\n",
    "    norm = colors.Normalize(0,.025)\n",
    "    normed = norm(abs(s.values))\n",
    "    c = [colors.rgb2hex(x) for x in plt.cm.get_cmap(cm)(normed)]\n",
    "    return ['background-color: %s' % color for color in c]\n",
    "\n",
    "post_hoc.style.apply(b_g, subset=all_p_values.columns)"
   ]
  }
 ],
 "metadata": {
  "environment": {
   "name": "common-cpu.m59",
   "type": "gcloud",
   "uri": "gcr.io/deeplearning-platform-release/base-cpu:m59"
  },
  "kernelspec": {
   "display_name": "Python 3",
   "language": "python",
   "name": "python3"
  },
  "language_info": {
   "codemirror_mode": {
    "name": "ipython",
    "version": 3
   },
   "file_extension": ".py",
   "mimetype": "text/x-python",
   "name": "python",
   "nbconvert_exporter": "python",
   "pygments_lexer": "ipython3",
   "version": "3.7.8"
  }
 },
 "nbformat": 4,
 "nbformat_minor": 4
}
